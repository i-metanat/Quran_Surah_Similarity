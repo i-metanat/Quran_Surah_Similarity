{
 "cells": [
  {
   "cell_type": "code",
   "execution_count": 10,
   "id": "74f23ae7",
   "metadata": {},
   "outputs": [],
   "source": [
    "from transformers import BertTokenizer, BertModel\n",
    "from sklearn.metrics.pairwise import cosine_similarity\n",
    "import numpy as np\n",
    "import torch"
   ]
  },
  {
   "cell_type": "code",
   "execution_count": 29,
   "id": "72b3ad98",
   "metadata": {},
   "outputs": [],
   "source": [
    "lst_surah_num = [2, 3, 29, 30, 31, 32, 7, 10, 11, 12, 14, 15, 13, 19, 20, 26, 28, 27, 36, 38, 40,\n",
    "                 41, 43, 44, 45, 46, 42, 50, 68]"
   ]
  },
  {
   "cell_type": "code",
   "execution_count": 30,
   "id": "5148cbd9",
   "metadata": {},
   "outputs": [],
   "source": [
    "# تبدیل سوره ها به متن یکپارچه\n",
    "\n",
    "sentences = []\n",
    "\n",
    "for surah in lst_surah_num:\n",
    "    len_surah = 0\n",
    "    fw = open('shiaQuran-simple-clean.txt', 'r', encoding=\"utf-8\")\n",
    "    surah_text = \"\"\n",
    "    for line in fw:\n",
    "        if int(line.split(\"|\")[0]) == surah:\n",
    "            surah_text = surah_text + line.split(\"|\")[2].replace('\\n', '')\n",
    "    sentences.append(surah_text)"
   ]
  },
  {
   "cell_type": "code",
   "execution_count": null,
   "id": "083bf6fc",
   "metadata": {
    "scrolled": true
   },
   "outputs": [],
   "source": [
    "# بارگذاری مدل و توکنایزر\n",
    "tokenizer = BertTokenizer.from_pretrained('Arabert/bert-large-arabertv02')\n",
    "model = BertModel.from_pretrained('Arabert/bert-large-arabertv02')\n",
    "\n",
    "def get_sentence_embedding(sentences):\n",
    "    encoded_input = tokenizer(sentences, padding=True, truncation=True, return_tensors='pt')\n",
    "    with torch.no_grad():\n",
    "        model_output = model(**encoded_input)\n",
    "    sentence_embeddings = model_output[1]  # بردارهای [CLS]\n",
    "    return sentence_embeddings.numpy()  # تبدیل به NumPy array\n",
    "\n",
    "# استخراج بردارهای معنایی\n",
    "sentence_embeddings = get_sentence_embedding(sentences)\n",
    "\n",
    "# محاسبه ماتریس شباهت کسینوسی\n",
    "similarity_matrix = cosine_similarity(sentence_embeddings)\n",
    "\n",
    "print(similarity_matrix)"
   ]
  },
  {
   "cell_type": "code",
   "execution_count": null,
   "id": "348b6ad4",
   "metadata": {},
   "outputs": [],
   "source": []
  }
 ],
 "metadata": {
  "kernelspec": {
   "display_name": "Python 3",
   "language": "python",
   "name": "python3"
  },
  "language_info": {
   "codemirror_mode": {
    "name": "ipython",
    "version": 3
   },
   "file_extension": ".py",
   "mimetype": "text/x-python",
   "name": "python",
   "nbconvert_exporter": "python",
   "pygments_lexer": "ipython3",
   "version": "3.8.8"
  }
 },
 "nbformat": 4,
 "nbformat_minor": 5
}
